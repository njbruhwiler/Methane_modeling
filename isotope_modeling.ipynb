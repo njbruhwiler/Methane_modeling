{
 "cells": [
  {
   "cell_type": "code",
   "execution_count": 100,
   "metadata": {},
   "outputs": [],
   "source": [
    "# this function reads data from a spreadsheet\n",
    "def read_xlsx(xrow,xcol1,xcol2):\n",
    "    import xlrd\n",
    "    file = '/home/vagrant/jupyter/methane_modeling/one_box_model/oneboxmodel.xlsx'\n",
    "    wb=xlrd.open_workbook(file)\n",
    "    sheet=wb.sheet_by_index(0)\n",
    "    data=[]\n",
    "    for i in range (xcol1,xcol2):\n",
    "        data.append(sheet.cell_value(xrow,i))\n",
    "    return data"
   ]
  },
  {
   "cell_type": "code",
   "execution_count": 67,
   "metadata": {},
   "outputs": [],
   "source": [
    "import numpy \n",
    "import math\n",
    "from matplotlib import pyplot, axes \n",
    "from scipy import stats"
   ]
  },
  {
   "cell_type": "code",
   "execution_count": 101,
   "metadata": {},
   "outputs": [],
   "source": [
    "# converting burden data in the spreadsheet from ppb to Tg\n",
    "conv_factor=2\n",
    "\n",
    "ch4i_data_unconverted=read_xlsx(1,4,37)\n",
    "ch4i_data=[i*conv_factor for i in ch4i_data_unconverted]\n",
    "\n",
    "ch4f_data_unconverted=read_xlsx(2,4,37)\n",
    "ch4f_data=[i*conv_factor for i in ch4f_data_unconverted]\n"
   ]
  },
  {
   "cell_type": "code",
   "execution_count": 104,
   "metadata": {},
   "outputs": [],
   "source": [
    "#reading more data from box model spreadsheet\n",
    "year=read_xlsx(0,4,37)\n",
    "Qbb_data=read_xlsx(31,4,37)\n",
    "Qsoil_data=read_xlsx(33,4,37)\n",
    "del_13Cff_data=read_xlsx(28,4,37)\n",
    "del_13Cmic_data=read_xlsx(27,4,37)\n",
    "del_13Ctot_data=read_xlsx(24,4,37)\n",
    "del_13Cbb_data=read_xlsx(29,4,37)"
   ]
  },
  {
   "cell_type": "code",
   "execution_count": 105,
   "metadata": {},
   "outputs": [
    {
     "data": {
      "text/plain": [
       "Text(0.5, 1.0, 'Methane Emissions from 1984 to 2016')"
      ]
     },
     "execution_count": 105,
     "metadata": {},
     "output_type": "execute_result"
    },
    {
     "data": {
      "image/png": "[encoded data removed]",
      "text/plain": [
       "<Figure size 432x288 with 1 Axes>"
      ]
     },
     "metadata": {
      "needs_background": "light"
     },
     "output_type": "display_data"
    }
   ],
   "source": [
    "#chemical lifetime in years\n",
    "tau=9  \n",
    "#starting year (time step=1 year)\n",
    "yr1=1984.\n",
    "#number of years\n",
    "nyrs=33\n",
    "\n",
    "#solving for Qatm\n",
    "def Qatm_values(t,tau,ch4i,ch4f):\n",
    "    Qatm=(ch4f-ch4i*math.exp(-t/tau))/(tau*(1.-math.exp(-t/tau)))\n",
    "    return Qatm\n",
    "\n",
    "ch4f=numpy.zeros(nyrs)\n",
    "for i in range(nyrs):\n",
    "    ch4f[i]=ch4f_data[i]\n",
    "\n",
    "ch4i=numpy.zeros(nyrs)\n",
    "for i in range(nyrs):\n",
    "    ch4i[i]=ch4i_data[i]\n",
    "\n",
    "Qatm=numpy.zeros(nyrs)\n",
    "for i in range (nyrs):\n",
    "    t=1\n",
    "    x=Qatm_values(t,tau,ch4i[i],ch4f[i])\n",
    "    Qatm[i]=x\n",
    "    \n",
    "\n",
    "#solving for Qff using calculated Qatm\n",
    "def fossil_fuel_burden(Qatm,Qbb,Qsoil,del_13Cff,del_13Cmic,del_13Ctot,del_13Cbb):\n",
    "    Qff=1./(del_13Cff-del_13Cmic)*(del_13Ctot*(Qtot-Qsoil)-del_13Cmic*(Qatm-Qbb-Qsoil)-del_13Cbb*(Qbb))\n",
    "    return Qff\n",
    "\n",
    "Qbb=numpy.zeros(nyrs)\n",
    "for i in range(nyrs):\n",
    "    Qbb[i]=Qbb_data[i]\n",
    "    \n",
    "Qsoil=numpy.zeros(nyrs)\n",
    "for i in range(nyrs):\n",
    "    Qsoil[i]=Qsoil_data[i]\n",
    "\n",
    "del_13Cff=numpy.zeros(nyrs)\n",
    "for i in range(nyrs):\n",
    "    del_13Cff[i]=del_13Cff_data[i]\n",
    "    \n",
    "del_13Cmic=numpy.zeros(nyrs)\n",
    "for i in range(nyrs):\n",
    "    del_13Cmic[i]=del_13Cmic_data[i]\n",
    "    \n",
    "del_13Ctot=numpy.zeros(nyrs)\n",
    "for i in range(nyrs):\n",
    "    del_13Ctot[i]=del_13Ctot_data[i]\n",
    "    \n",
    "del_13Cbb=numpy.zeros(nyrs)\n",
    "for i in range(nyrs):\n",
    "    del_13Cbb[i]=del_13Cbb_data[i]\n",
    "    \n",
    "#solving for Qmic using calculated Qatm and Qff\n",
    "def microbial_burden(Qatm,Qff,Qbb,Qsoil):\n",
    "    Qmic=Qatm-Qff-Qbb-Qsoil\n",
    "    return Qmic\n",
    "    \n",
    "#plotting solutions\n",
    "pyplot.plot(year,Qff,color='black') \n",
    "pyplot.plot(year,Qmic,color='red')\n",
    "pyplot.legend([\"Fossil fuel emissions\",\"Microbial emissions\"])\n",
    "pyplot.xlabel(\"Year\")\n",
    "pyplot.ylabel(\"Methane Emissions in Tg\")\n",
    "pyplot.title(\"Methane Emissions from 1984 to 2016\")"
   ]
  },
  {
   "cell_type": "code",
   "execution_count": null,
   "metadata": {},
   "outputs": [],
   "source": []
  }
 ],
 "metadata": {
  "kernelspec": {
   "display_name": "Python 3",
   "language": "python",
   "name": "py3"
  },
  "language_info": {
   "codemirror_mode": {
    "name": "ipython",
    "version": 3
   },
   "file_extension": ".py",
   "mimetype": "text/x-python",
   "name": "python",
   "nbconvert_exporter": "python",
   "pygments_lexer": "ipython3",
   "version": "3.7.2"
  }
 },
 "nbformat": 4,
 "nbformat_minor": 2
}
